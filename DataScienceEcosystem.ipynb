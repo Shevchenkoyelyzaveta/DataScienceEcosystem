{
 "cells": [
  {
   "cell_type": "markdown",
   "id": "6647a6a1-4ebe-4f43-9a58-c48cb2e68762",
   "metadata": {},
   "source": [
    "# Data Science Tools and Ecosystem"
   ]
  },
  {
   "cell_type": "markdown",
   "id": "276579a9-6f3e-4039-95aa-1a30f60dba4b",
   "metadata": {},
   "source": [
    "In this notebook, Data Science Tools and Ecosystem are summarized"
   ]
  },
  {
   "cell_type": "markdown",
   "id": "81d10337-25e5-4776-aa4e-cf5b00d10016",
   "metadata": {},
   "source": [
    "**Objectives:**"
   ]
  },
  {
   "cell_type": "markdown",
   "id": "201d387a-ee1a-44f6-81f7-b1bfa4ff5d97",
   "metadata": {},
   "source": [
    "+\n",
    "Scala\n",
    "+\n",
    "SQL\n",
    "+\n",
    " Julia"
   ]
  },
  {
   "cell_type": "markdown",
   "id": "b8f03c56-505c-41a3-97ae-d157f7c014fd",
   "metadata": {},
   "source": [
    "**Some of the popular languages that Data Scientists use are:**"
   ]
  },
  {
   "cell_type": "markdown",
   "id": "93b37f7c-351f-496c-9b96-23cb9c562721",
   "metadata": {},
   "source": [
    "1.\n",
    "Phython\n",
    "2.\n",
    "  R\n",
    "3.\n",
    "  Julia"
   ]
  },
  {
   "cell_type": "markdown",
   "id": "386887f2-dab3-4672-b15b-a30f092eb839",
   "metadata": {},
   "source": [
    "**Some of the commonly used libraries used by Data Scientists include:**"
   ]
  },
  {
   "cell_type": "markdown",
   "id": "15a32b59-cdb2-4d23-bc59-94a83993dc3f",
   "metadata": {},
   "source": [
    "1.\n",
    "TensorFlow\n",
    "2.\n",
    "SciPy\n",
    "3.\n",
    "Pandas"
   ]
  },
  {
   "cell_type": "markdown",
   "id": "d911e497-0ba7-43d1-9e60-77c5e5ea7d12",
   "metadata": {},
   "source": [
    "|Data Science Tools|\n",
    "|:--------|\n",
    "|Jupyter Notebook|\n",
    "|Apache Spark|\n",
    "|D3|"
   ]
  },
  {
   "cell_type": "markdown",
   "id": "c9c47fe3-11e2-4471-b89d-3ca94b757bcc",
   "metadata": {},
   "source": [
    "### Below are a few examples of evaluating arithmetic expressions in Python"
   ]
  },
  {
   "cell_type": "markdown",
   "id": "8effa55f-fdb7-4239-b042-b208ed687f75",
   "metadata": {},
   "source": [
    "This a simple arithmetic expression to mutiply then add integers:"
   ]
  },
  {
   "cell_type": "code",
   "execution_count": 32,
   "id": "b46f97ee-4c36-4482-8607-781501a47137",
   "metadata": {},
   "outputs": [
    {
     "data": {
      "text/plain": [
       "17"
      ]
     },
     "execution_count": 32,
     "metadata": {},
     "output_type": "execute_result"
    }
   ],
   "source": [
    "(3*4)+5"
   ]
  },
  {
   "cell_type": "markdown",
   "id": "b8f9739b-226a-47b4-8562-5723059926ba",
   "metadata": {},
   "source": [
    " This will convert 200 minutes to hours by diving by 60"
   ]
  },
  {
   "cell_type": "code",
   "execution_count": 39,
   "id": "34b61492-ab64-4a0d-a807-786d14e30f66",
   "metadata": {},
   "outputs": [
    {
     "data": {
      "text/plain": [
       "3.3333333333333335"
      ]
     },
     "execution_count": 39,
     "metadata": {},
     "output_type": "execute_result"
    }
   ],
   "source": [
    "200/60"
   ]
  },
  {
   "cell_type": "markdown",
   "id": "f442a0c8-8db1-40ca-b02c-bd784a678641",
   "metadata": {},
   "source": [
    "## Author"
   ]
  },
  {
   "cell_type": "markdown",
   "id": "2a9338b4-1ade-4d93-8665-ee8c239602df",
   "metadata": {},
   "source": [
    "Shevchenko Yelyzaveta"
   ]
 
